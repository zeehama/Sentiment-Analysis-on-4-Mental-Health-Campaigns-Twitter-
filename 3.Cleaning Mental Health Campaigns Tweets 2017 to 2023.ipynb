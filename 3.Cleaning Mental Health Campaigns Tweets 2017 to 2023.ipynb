{
 "cells": [
  {
   "cell_type": "code",
   "execution_count": 1,
   "id": "61b4760f",
   "metadata": {},
   "outputs": [],
   "source": [
    "#!pip install langdetect\n",
    "import numpy as np\n",
    "import pandas as pd\n",
    "import IPython\n",
    "import re\n",
    "import seaborn as sns\n",
    "import matplotlib.pyplot as plt\n",
    "\n",
    "import nltk\n",
    "from nltk import sent_tokenize\n",
    "from nltk.tokenize import word_tokenize\n",
    "from nltk.corpus import stopwords\n",
    "from nltk.stem import WordNetLemmatizer\n",
    "lemmatizer=WordNetLemmatizer()\n",
    "from nltk.stem.porter import PorterStemmer\n",
    "\n",
    "import string\n",
    "import re\n",
    "\n",
    "from textblob import TextBlob\n",
    "from emot.emo_unicode import UNICODE_EMOJI # For emojis\n",
    "from emot.emo_unicode import EMOTICONS_EMO # For EMOTICONSMH_ca"
   ]
  },
  {
   "cell_type": "code",
   "execution_count": 2,
   "id": "39b93b90",
   "metadata": {},
   "outputs": [],
   "source": [
    "import sys\n",
    "sys.path.insert(0, '../../_functions_')\n",
    "\n",
    "from functions_EDA import *\n",
    "from fx_NLP import *"
   ]
  },
  {
   "cell_type": "markdown",
   "id": "1b005748",
   "metadata": {},
   "source": [
    "# Scroll down to load cleaned tweets"
   ]
  },
  {
   "cell_type": "code",
   "execution_count": 3,
   "id": "979b7237",
   "metadata": {},
   "outputs": [],
   "source": [
    "df = pd.read_csv('../datasets/MH_Campaigns1723.csv')"
   ]
  },
  {
   "cell_type": "code",
   "execution_count": 4,
   "id": "babb0cd3",
   "metadata": {},
   "outputs": [],
   "source": [
    "df1=df.copy()"
   ]
  },
  {
   "cell_type": "code",
   "execution_count": 5,
   "id": "6db9f6db",
   "metadata": {},
   "outputs": [
    {
     "name": "stdout",
     "output_type": "stream",
     "text": [
      "<class 'pandas.core.frame.DataFrame'>\n",
      "RangeIndex: 724756 entries, 0 to 724755\n",
      "Data columns (total 17 columns):\n",
      " #   Column        Non-Null Count   Dtype  \n",
      "---  ------        --------------   -----  \n",
      " 0   Date          724756 non-null  object \n",
      " 1   ID            724756 non-null  int64  \n",
      " 2   url           724756 non-null  object \n",
      " 3   username      724756 non-null  object \n",
      " 4   source        724756 non-null  object \n",
      " 5   location      724756 non-null  object \n",
      " 6   tweet         724756 non-null  object \n",
      " 7   likes         724756 non-null  int64  \n",
      " 8   rt            724756 non-null  int64  \n",
      " 9   followers     724756 non-null  int64  \n",
      " 10  replies       724756 non-null  int64  \n",
      " 11  campaign      724756 non-null  object \n",
      " 12  likes_pf      724756 non-null  float64\n",
      " 13  replies_pf    724756 non-null  float64\n",
      " 14  rt_pf         724756 non-null  float64\n",
      " 15  engagement    724756 non-null  float64\n",
      " 16  engagement_0  724756 non-null  float64\n",
      "dtypes: float64(5), int64(5), object(7)\n",
      "memory usage: 94.0+ MB\n"
     ]
    }
   ],
   "source": [
    "df.info()\n",
    "#724756 tweets!"
   ]
  },
  {
   "cell_type": "code",
   "execution_count": 6,
   "id": "7bd49270",
   "metadata": {},
   "outputs": [
    {
     "data": {
      "text/html": [
       "<div>\n",
       "<style scoped>\n",
       "    .dataframe tbody tr th:only-of-type {\n",
       "        vertical-align: middle;\n",
       "    }\n",
       "\n",
       "    .dataframe tbody tr th {\n",
       "        vertical-align: top;\n",
       "    }\n",
       "\n",
       "    .dataframe thead th {\n",
       "        text-align: right;\n",
       "    }\n",
       "</style>\n",
       "<table border=\"1\" class=\"dataframe\">\n",
       "  <thead>\n",
       "    <tr style=\"text-align: right;\">\n",
       "      <th></th>\n",
       "      <th>ID</th>\n",
       "      <th>likes</th>\n",
       "      <th>rt</th>\n",
       "      <th>followers</th>\n",
       "      <th>replies</th>\n",
       "      <th>likes_pf</th>\n",
       "      <th>replies_pf</th>\n",
       "      <th>rt_pf</th>\n",
       "      <th>engagement</th>\n",
       "      <th>engagement_0</th>\n",
       "    </tr>\n",
       "  </thead>\n",
       "  <tbody>\n",
       "    <tr>\n",
       "      <th>count</th>\n",
       "      <td>7.247560e+05</td>\n",
       "      <td>724756.000000</td>\n",
       "      <td>724756.000000</td>\n",
       "      <td>7.247560e+05</td>\n",
       "      <td>724756.000000</td>\n",
       "      <td>7.247560e+05</td>\n",
       "      <td>724756.0</td>\n",
       "      <td>7.247560e+05</td>\n",
       "      <td>724756.000000</td>\n",
       "      <td>724756.000000</td>\n",
       "    </tr>\n",
       "    <tr>\n",
       "      <th>mean</th>\n",
       "      <td>1.212629e+18</td>\n",
       "      <td>7.072277</td>\n",
       "      <td>2.342939</td>\n",
       "      <td>1.539511e+04</td>\n",
       "      <td>0.402076</td>\n",
       "      <td>inf</td>\n",
       "      <td>inf</td>\n",
       "      <td>inf</td>\n",
       "      <td>0.015342</td>\n",
       "      <td>0.017171</td>\n",
       "    </tr>\n",
       "    <tr>\n",
       "      <th>std</th>\n",
       "      <td>2.093917e+17</td>\n",
       "      <td>143.337525</td>\n",
       "      <td>31.214356</td>\n",
       "      <td>3.137420e+05</td>\n",
       "      <td>7.549365</td>\n",
       "      <td>NaN</td>\n",
       "      <td>NaN</td>\n",
       "      <td>NaN</td>\n",
       "      <td>0.291900</td>\n",
       "      <td>0.434015</td>\n",
       "    </tr>\n",
       "    <tr>\n",
       "      <th>min</th>\n",
       "      <td>8.153481e+17</td>\n",
       "      <td>0.000000</td>\n",
       "      <td>0.000000</td>\n",
       "      <td>0.000000e+00</td>\n",
       "      <td>0.000000</td>\n",
       "      <td>0.000000e+00</td>\n",
       "      <td>0.0</td>\n",
       "      <td>0.000000e+00</td>\n",
       "      <td>0.000000</td>\n",
       "      <td>0.000000</td>\n",
       "    </tr>\n",
       "    <tr>\n",
       "      <th>25%</th>\n",
       "      <td>1.000495e+18</td>\n",
       "      <td>0.000000</td>\n",
       "      <td>0.000000</td>\n",
       "      <td>4.330000e+02</td>\n",
       "      <td>0.000000</td>\n",
       "      <td>0.000000e+00</td>\n",
       "      <td>0.0</td>\n",
       "      <td>0.000000e+00</td>\n",
       "      <td>0.000000</td>\n",
       "      <td>0.000000</td>\n",
       "    </tr>\n",
       "    <tr>\n",
       "      <th>50%</th>\n",
       "      <td>1.261968e+18</td>\n",
       "      <td>2.000000</td>\n",
       "      <td>0.000000</td>\n",
       "      <td>1.387000e+03</td>\n",
       "      <td>0.000000</td>\n",
       "      <td>6.508298e-04</td>\n",
       "      <td>0.0</td>\n",
       "      <td>0.000000e+00</td>\n",
       "      <td>0.001433</td>\n",
       "      <td>0.001434</td>\n",
       "    </tr>\n",
       "    <tr>\n",
       "      <th>75%</th>\n",
       "      <td>1.392014e+18</td>\n",
       "      <td>5.000000</td>\n",
       "      <td>2.000000</td>\n",
       "      <td>4.364000e+03</td>\n",
       "      <td>0.000000</td>\n",
       "      <td>3.595829e-03</td>\n",
       "      <td>0.0</td>\n",
       "      <td>1.471205e-03</td>\n",
       "      <td>0.006878</td>\n",
       "      <td>0.007579</td>\n",
       "    </tr>\n",
       "    <tr>\n",
       "      <th>max</th>\n",
       "      <td>1.636147e+18</td>\n",
       "      <td>74341.000000</td>\n",
       "      <td>11917.000000</td>\n",
       "      <td>8.483486e+07</td>\n",
       "      <td>2570.000000</td>\n",
       "      <td>inf</td>\n",
       "      <td>inf</td>\n",
       "      <td>inf</td>\n",
       "      <td>182.121622</td>\n",
       "      <td>290.979730</td>\n",
       "    </tr>\n",
       "  </tbody>\n",
       "</table>\n",
       "</div>"
      ],
      "text/plain": [
       "                 ID          likes             rt     followers  \\\n",
       "count  7.247560e+05  724756.000000  724756.000000  7.247560e+05   \n",
       "mean   1.212629e+18       7.072277       2.342939  1.539511e+04   \n",
       "std    2.093917e+17     143.337525      31.214356  3.137420e+05   \n",
       "min    8.153481e+17       0.000000       0.000000  0.000000e+00   \n",
       "25%    1.000495e+18       0.000000       0.000000  4.330000e+02   \n",
       "50%    1.261968e+18       2.000000       0.000000  1.387000e+03   \n",
       "75%    1.392014e+18       5.000000       2.000000  4.364000e+03   \n",
       "max    1.636147e+18   74341.000000   11917.000000  8.483486e+07   \n",
       "\n",
       "             replies      likes_pf  replies_pf         rt_pf     engagement  \\\n",
       "count  724756.000000  7.247560e+05    724756.0  7.247560e+05  724756.000000   \n",
       "mean        0.402076           inf         inf           inf       0.015342   \n",
       "std         7.549365           NaN         NaN           NaN       0.291900   \n",
       "min         0.000000  0.000000e+00         0.0  0.000000e+00       0.000000   \n",
       "25%         0.000000  0.000000e+00         0.0  0.000000e+00       0.000000   \n",
       "50%         0.000000  6.508298e-04         0.0  0.000000e+00       0.001433   \n",
       "75%         0.000000  3.595829e-03         0.0  1.471205e-03       0.006878   \n",
       "max      2570.000000           inf         inf           inf     182.121622   \n",
       "\n",
       "        engagement_0  \n",
       "count  724756.000000  \n",
       "mean        0.017171  \n",
       "std         0.434015  \n",
       "min         0.000000  \n",
       "25%         0.000000  \n",
       "50%         0.001434  \n",
       "75%         0.007579  \n",
       "max       290.979730  "
      ]
     },
     "execution_count": 6,
     "metadata": {},
     "output_type": "execute_result"
    }
   ],
   "source": [
    "df.describe()\n",
    "#avg number of likes for all campaigns = 7\n",
    "#avg rts = 2\n",
    "#highest num of likes =74341\n",
    "#highest rt =11917"
   ]
  },
  {
   "cell_type": "code",
   "execution_count": 9,
   "id": "15904747",
   "metadata": {},
   "outputs": [
    {
     "data": {
      "text/plain": [
       "597652    74341\n",
       "452892    47566\n",
       "598100    43034\n",
       "457647    25447\n",
       "123023    20467\n",
       "          ...  \n",
       "442274        0\n",
       "442273        0\n",
       "80071         0\n",
       "442267        0\n",
       "724755        0\n",
       "Name: likes, Length: 724756, dtype: int64"
      ]
     },
     "execution_count": 9,
     "metadata": {},
     "output_type": "execute_result"
    }
   ],
   "source": [
    "df.likes.sort_values(ascending=False)\n",
    "#tweet at index 597652"
   ]
  },
  {
   "cell_type": "code",
   "execution_count": 8,
   "id": "ac0a5c3a",
   "metadata": {},
   "outputs": [
    {
     "data": {
      "text/plain": [
       "'tw // eating disorder\\n\\n.\\n\\nsince it’s eating disorder awareness week i think we should talk about how much tiktok users fucking glorify them'"
      ]
     },
     "execution_count": 8,
     "metadata": {},
     "output_type": "execute_result"
    }
   ],
   "source": [
    "df.iloc[597652,:].tweet"
   ]
  },
  {
   "cell_type": "code",
   "execution_count": 10,
   "id": "2d2e71e0",
   "metadata": {},
   "outputs": [
    {
     "data": {
      "text/plain": [
       "Date                                    2021-02-28 05:51:26+00:00\n",
       "ID                                            1365902410749722624\n",
       "url             https://twitter.com/fawnseIf/status/1365902410...\n",
       "username                                                 fawnseIf\n",
       "source                                         Twitter for iPhone\n",
       "location                              they awe kiss + more neos →\n",
       "tweet           tw // eating disorder\\n\\n.\\n\\nsince it’s eatin...\n",
       "likes                                                       74341\n",
       "rt                                                          11917\n",
       "followers                                                    5681\n",
       "replies                                                       243\n",
       "campaign                                                     EDAW\n",
       "likes_pf                                                  13.0859\n",
       "replies_pf                                               0.128322\n",
       "rt_pf                                                    4.195388\n",
       "engagement                                              17.409611\n",
       "engagement_0                                            26.214575\n",
       "Name: 597652, dtype: object"
      ]
     },
     "execution_count": 10,
     "metadata": {},
     "output_type": "execute_result"
    }
   ],
   "source": [
    "df.iloc[597652,:]"
   ]
  },
  {
   "cell_type": "code",
   "execution_count": 12,
   "id": "f74653f2",
   "metadata": {},
   "outputs": [
    {
     "data": {
      "text/plain": [
       "597652    11917\n",
       "457647     8012\n",
       "123023     7666\n",
       "452892     5981\n",
       "127787     5798\n",
       "          ...  \n",
       "173170        0\n",
       "173171        0\n",
       "173172        0\n",
       "173173        0\n",
       "724755        0\n",
       "Name: rt, Length: 724756, dtype: int64"
      ]
     },
     "execution_count": 12,
     "metadata": {},
     "output_type": "execute_result"
    }
   ],
   "source": [
    "df.rt.sort_values(ascending=False)\n",
    "#also the most retweeted"
   ]
  },
  {
   "cell_type": "code",
   "execution_count": 13,
   "id": "f3b5c6c3",
   "metadata": {},
   "outputs": [],
   "source": [
    "#an EDAW tweet is one of the most liked and retweeted. Fairly significant, because EDAW is not the biggest campaign\n",
    "#(specific health disorder, compared to MHAW, and fewer followers)"
   ]
  },
  {
   "cell_type": "markdown",
   "id": "dfaf799c",
   "metadata": {},
   "source": [
    "## Converting date (object) to datetime"
   ]
  },
  {
   "cell_type": "code",
   "execution_count": 14,
   "id": "b420172b",
   "metadata": {},
   "outputs": [
    {
     "name": "stdout",
     "output_type": "stream",
     "text": [
      "<class 'pandas.core.frame.DataFrame'>\n",
      "RangeIndex: 724756 entries, 0 to 724755\n",
      "Data columns (total 17 columns):\n",
      " #   Column        Non-Null Count   Dtype  \n",
      "---  ------        --------------   -----  \n",
      " 0   Date          724756 non-null  object \n",
      " 1   ID            724756 non-null  int64  \n",
      " 2   url           724756 non-null  object \n",
      " 3   username      724756 non-null  object \n",
      " 4   source        724756 non-null  object \n",
      " 5   location      724756 non-null  object \n",
      " 6   tweet         724756 non-null  object \n",
      " 7   likes         724756 non-null  int64  \n",
      " 8   rt            724756 non-null  int64  \n",
      " 9   followers     724756 non-null  int64  \n",
      " 10  replies       724756 non-null  int64  \n",
      " 11  campaign      724756 non-null  object \n",
      " 12  likes_pf      724756 non-null  float64\n",
      " 13  replies_pf    724756 non-null  float64\n",
      " 14  rt_pf         724756 non-null  float64\n",
      " 15  engagement    724756 non-null  float64\n",
      " 16  engagement_0  724756 non-null  float64\n",
      "dtypes: float64(5), int64(5), object(7)\n",
      "memory usage: 94.0+ MB\n"
     ]
    }
   ],
   "source": [
    "df.info()"
   ]
  },
  {
   "cell_type": "code",
   "execution_count": 15,
   "id": "fcc83459",
   "metadata": {},
   "outputs": [],
   "source": [
    "#first rename the Date column, because really it is date time, and I want my new column to be date\n",
    "df = df.rename(columns={'Date': 'datetime'})"
   ]
  },
  {
   "cell_type": "code",
   "execution_count": 31,
   "id": "f95ef4bf",
   "metadata": {},
   "outputs": [],
   "source": [
    "#extract just date and save it in another column\n",
    "df['date'] = df['datetime']"
   ]
  },
  {
   "cell_type": "code",
   "execution_count": 32,
   "id": "8494502b",
   "metadata": {},
   "outputs": [
    {
     "name": "stdout",
     "output_type": "stream",
     "text": [
      "<class 'pandas.core.frame.DataFrame'>\n",
      "RangeIndex: 724756 entries, 0 to 724755\n",
      "Data columns (total 17 columns):\n",
      " #   Column        Non-Null Count   Dtype              \n",
      "---  ------        --------------   -----              \n",
      " 0   datetime      724756 non-null  datetime64[ns, UTC]\n",
      " 1   ID            724756 non-null  int64              \n",
      " 2   username      724756 non-null  object             \n",
      " 3   source        724756 non-null  object             \n",
      " 4   location      724756 non-null  object             \n",
      " 5   tweet         724756 non-null  object             \n",
      " 6   likes         724756 non-null  int64              \n",
      " 7   rt            724756 non-null  int64              \n",
      " 8   followers     724756 non-null  int64              \n",
      " 9   replies       724756 non-null  int64              \n",
      " 10  campaign      724756 non-null  object             \n",
      " 11  likes_pf      724756 non-null  float64            \n",
      " 12  replies_pf    724756 non-null  float64            \n",
      " 13  rt_pf         724756 non-null  float64            \n",
      " 14  engagement    724756 non-null  float64            \n",
      " 15  engagement_0  724756 non-null  float64            \n",
      " 16  date          724756 non-null  datetime64[ns, UTC]\n",
      "dtypes: datetime64[ns, UTC](2), float64(5), int64(5), object(5)\n",
      "memory usage: 94.0+ MB\n"
     ]
    }
   ],
   "source": [
    "#check outcome\n",
    "df.info()"
   ]
  },
  {
   "cell_type": "code",
   "execution_count": 20,
   "id": "02828cc2",
   "metadata": {},
   "outputs": [],
   "source": [
    "df.drop(columns=['url'], inplace=True)\n",
    "#was finding that none of them actually work anyway"
   ]
  },
  {
   "cell_type": "code",
   "execution_count": 21,
   "id": "311c30f0",
   "metadata": {},
   "outputs": [
    {
     "data": {
      "text/plain": [
       "58063"
      ]
     },
     "execution_count": 21,
     "metadata": {},
     "output_type": "execute_result"
    }
   ],
   "source": [
    "len(df.location.unique().tolist())\n",
    "#58064 unique place names - unlikely to be able to clean these up to be categorical"
   ]
  },
  {
   "cell_type": "markdown",
   "id": "bde8c9b4",
   "metadata": {},
   "source": [
    "# Plotting count of tweets per campaign, across time"
   ]
  },
  {
   "cell_type": "code",
   "execution_count": 33,
   "id": "2c5e9fd1",
   "metadata": {},
   "outputs": [
    {
     "data": {
      "image/png": "[encoded data removed]",
      "text/plain": [
       "<Figure size 640x480 with 1 Axes>"
      ]
     },
     "metadata": {},
     "output_type": "display_data"
    }
   ],
   "source": [
    "import pandas as pd\n",
    "import matplotlib.pyplot as plt\n",
    "\n",
    "# convert the 'date' column to a pandas datetime type\n",
    "df['date'] = pd.to_datetime(df['date'])\n",
    "\n",
    "# group the dataframe by 'group' and 'date', and count the number of tweets in each group and date\n",
    "grouped = df.groupby(['campaign', 'date']).size()\n",
    "\n",
    "# reshape the grouped data into a new dataframe\n",
    "df_count = grouped.unstack('campaign')\n",
    "\n",
    "# plot the count of tweets for each group over time\n",
    "df_count.plot()\n",
    "plt.show()"
   ]
  },
  {
   "cell_type": "markdown",
   "id": "05c8bc62",
   "metadata": {},
   "source": [
    "# Preprocessing text data - building and testing function that will be applied to all tweets eventually"
   ]
  },
  {
   "cell_type": "code",
   "execution_count": 34,
   "id": "cd640186",
   "metadata": {},
   "outputs": [],
   "source": [
    "emoji = list(UNICODE_EMOJI.keys())"
   ]
  },
  {
   "cell_type": "code",
   "execution_count": 35,
   "id": "5c7749a1",
   "metadata": {},
   "outputs": [],
   "source": [
    "def clean_tokens(text, language):\n",
    "    # 1 create tokens\n",
    "    tokens = word_tokenize(text)\n",
    "    # 2 lower case\n",
    "    tokens = [w.lower() for w in tokens]\n",
    "    # 3 remove punctuations\n",
    "    stripped = [word for word in tokens if word.isalpha()]\n",
    "    # 4 remove stop_words\n",
    "    stop_words = set(stopwords.words(language))\n",
    "    words = [w for w in stripped if not w in stop_words]\n",
    "    # remove emojis\n",
    "    no_emoji = [w for w in words if not w in emoji]\n",
    "    # join cleaned tokens into a single string\n",
    "    clean_text = ' '.join(no_emoji)\n",
    "    # return the cleaned string\n",
    "    return clean_text"
   ]
  },
  {
   "cell_type": "code",
   "execution_count": 36,
   "id": "9bde4a27",
   "metadata": {},
   "outputs": [
    {
     "data": {
      "text/plain": [
       "'We want to spread some kindness EVERYDAY of the week in support of #MentalHealthAwarenessWeek ✨ For the chance to #WIN a Pretty Little Parcel, all you have to do is: follow us then tweet the hashtag #LovePLT 💕 and remember, be kind always 💘'"
      ]
     },
     "execution_count": 36,
     "metadata": {},
     "output_type": "execute_result"
    }
   ],
   "source": [
    "df.iloc[310814,:].tweet"
   ]
  },
  {
   "cell_type": "code",
   "execution_count": 37,
   "id": "50e6d23b",
   "metadata": {},
   "outputs": [],
   "source": [
    "string_check=\"We want to spread some kindness EVERYDAY of the week in support of #MentalHealthAwarenessWeek ✨ For the chance to #WIN a Pretty Little Parcel, all you have to do is: follow us then tweet the hashtag #LovePLT 💕 and remember, be kind always 💘\""
   ]
  },
  {
   "cell_type": "code",
   "execution_count": 38,
   "id": "192d2365",
   "metadata": {},
   "outputs": [
    {
     "data": {
      "text/plain": [
       "'want spread kindness everyday week support mentalhealthawarenessweek chance win pretty little parcel follow us tweet hashtag loveplt remember kind always'"
      ]
     },
     "execution_count": 38,
     "metadata": {},
     "output_type": "execute_result"
    }
   ],
   "source": [
    "clean_tokens(string_check, 'english')\n",
    "#seems to work well"
   ]
  },
  {
   "cell_type": "code",
   "execution_count": null,
   "id": "3333423a",
   "metadata": {},
   "outputs": [],
   "source": [
    "#adding new column to store the processed tweets\n",
    "#df['processed_tweet'] = df.tweet.apply(lambda x: clean_tokens(x,'english'))"
   ]
  },
  {
   "cell_type": "code",
   "execution_count": null,
   "id": "1749c739",
   "metadata": {},
   "outputs": [],
   "source": [
    "#after this has executed, check that it does not return the words as a list anymore, and then save to a df to replace the old\n",
    "#one. Next step after this is to see if the code ChatGPT gave, for updating stopwords, works."
   ]
  },
  {
   "cell_type": "code",
   "execution_count": 40,
   "id": "1909d828",
   "metadata": {},
   "outputs": [
    {
     "data": {
      "text/plain": [
       "'We want to spread some kindness EVERYDAY of the week in support of #MentalHealthAwarenessWeek ✨ For the chance to #WIN a Pretty Little Parcel, all you have to do is: follow us then tweet the hashtag #LovePLT 💕 and remember, be kind always 💘'"
      ]
     },
     "execution_count": 40,
     "metadata": {},
     "output_type": "execute_result"
    }
   ],
   "source": [
    "df.iloc[310814,:].tweet"
   ]
  },
  {
   "cell_type": "code",
   "execution_count": 41,
   "id": "186aea50",
   "metadata": {},
   "outputs": [
    {
     "ename": "AttributeError",
     "evalue": "'Series' object has no attribute 'processed_tweet'",
     "output_type": "error",
     "traceback": [
      "\u001b[1;31m---------------------------------------------------------------------------\u001b[0m",
      "\u001b[1;31mAttributeError\u001b[0m                            Traceback (most recent call last)",
      "\u001b[1;32m~\\AppData\\Local\\Temp\\ipykernel_1364\\3224050029.py\u001b[0m in \u001b[0;36m<module>\u001b[1;34m\u001b[0m\n\u001b[1;32m----> 1\u001b[1;33m \u001b[0mdf\u001b[0m\u001b[1;33m.\u001b[0m\u001b[0miloc\u001b[0m\u001b[1;33m[\u001b[0m\u001b[1;36m310814\u001b[0m\u001b[1;33m,\u001b[0m\u001b[1;33m:\u001b[0m\u001b[1;33m]\u001b[0m\u001b[1;33m.\u001b[0m\u001b[0mprocessed_tweet\u001b[0m\u001b[1;33m\u001b[0m\u001b[1;33m\u001b[0m\u001b[0m\n\u001b[0m",
      "\u001b[1;32m~\\anaconda3\\envs\\DataAnalyticsV3\\lib\\site-packages\\pandas\\core\\generic.py\u001b[0m in \u001b[0;36m__getattr__\u001b[1;34m(self, name)\u001b[0m\n\u001b[0;32m   5485\u001b[0m         ):\n\u001b[0;32m   5486\u001b[0m             \u001b[1;32mreturn\u001b[0m \u001b[0mself\u001b[0m\u001b[1;33m[\u001b[0m\u001b[0mname\u001b[0m\u001b[1;33m]\u001b[0m\u001b[1;33m\u001b[0m\u001b[1;33m\u001b[0m\u001b[0m\n\u001b[1;32m-> 5487\u001b[1;33m         \u001b[1;32mreturn\u001b[0m \u001b[0mobject\u001b[0m\u001b[1;33m.\u001b[0m\u001b[0m__getattribute__\u001b[0m\u001b[1;33m(\u001b[0m\u001b[0mself\u001b[0m\u001b[1;33m,\u001b[0m \u001b[0mname\u001b[0m\u001b[1;33m)\u001b[0m\u001b[1;33m\u001b[0m\u001b[1;33m\u001b[0m\u001b[0m\n\u001b[0m\u001b[0;32m   5488\u001b[0m \u001b[1;33m\u001b[0m\u001b[0m\n\u001b[0;32m   5489\u001b[0m     \u001b[1;32mdef\u001b[0m \u001b[0m__setattr__\u001b[0m\u001b[1;33m(\u001b[0m\u001b[0mself\u001b[0m\u001b[1;33m,\u001b[0m \u001b[0mname\u001b[0m\u001b[1;33m:\u001b[0m \u001b[0mstr\u001b[0m\u001b[1;33m,\u001b[0m \u001b[0mvalue\u001b[0m\u001b[1;33m)\u001b[0m \u001b[1;33m->\u001b[0m \u001b[1;32mNone\u001b[0m\u001b[1;33m:\u001b[0m\u001b[1;33m\u001b[0m\u001b[1;33m\u001b[0m\u001b[0m\n",
      "\u001b[1;31mAttributeError\u001b[0m: 'Series' object has no attribute 'processed_tweet'"
     ]
    }
   ],
   "source": [
    "df.iloc[310814,:].processed_tweet"
   ]
  },
  {
   "cell_type": "code",
   "execution_count": null,
   "id": "b42c0620",
   "metadata": {},
   "outputs": [],
   "source": [
    "#df.to_csv('MH_Campaign_Tweets_Clean_1723.csv', index=False)"
   ]
  },
  {
   "cell_type": "code",
   "execution_count": 42,
   "id": "d7d5070f",
   "metadata": {},
   "outputs": [],
   "source": [
    "#checking that the processed tweet column is in there\n",
    "df1=pd.read_csv('../datasets/MH_Campaign_Tweets_Clean_1723.csv')"
   ]
  },
  {
   "cell_type": "code",
   "execution_count": 46,
   "id": "cee91110",
   "metadata": {},
   "outputs": [
    {
     "name": "stdout",
     "output_type": "stream",
     "text": [
      "<class 'pandas.core.frame.DataFrame'>\n",
      "RangeIndex: 724756 entries, 0 to 724755\n",
      "Data columns (total 18 columns):\n",
      " #   Column           Non-Null Count   Dtype  \n",
      "---  ------           --------------   -----  \n",
      " 0   ID               724756 non-null  int64  \n",
      " 1   Date             724756 non-null  object \n",
      " 2   url              724756 non-null  object \n",
      " 3   username         724756 non-null  object \n",
      " 4   source           724756 non-null  object \n",
      " 5   location         724756 non-null  object \n",
      " 6   tweet            724756 non-null  object \n",
      " 7   likes            724756 non-null  int64  \n",
      " 8   rt               724756 non-null  int64  \n",
      " 9   followers        724756 non-null  int64  \n",
      " 10  replies          724756 non-null  int64  \n",
      " 11  campaign         724756 non-null  object \n",
      " 12  likes_pf         724756 non-null  float64\n",
      " 13  rt_pf            724756 non-null  float64\n",
      " 14  replies_pf       724756 non-null  float64\n",
      " 15  engagement       724756 non-null  float64\n",
      " 16  engagement_0     724756 non-null  float64\n",
      " 17  processed_tweet  724745 non-null  object \n",
      "dtypes: float64(5), int64(5), object(8)\n",
      "memory usage: 99.5+ MB\n"
     ]
    }
   ],
   "source": [
    "df1.info()"
   ]
  }
 ],
 "metadata": {
  "kernelspec": {
   "display_name": "Python 3 (ipykernel)",
   "language": "python",
   "name": "python3"
  },
  "language_info": {
   "codemirror_mode": {
    "name": "ipython",
    "version": 3
   },
   "file_extension": ".py",
   "mimetype": "text/x-python",
   "name": "python",
   "nbconvert_exporter": "python",
   "pygments_lexer": "ipython3",
   "version": "3.7.13"
  }
 },
 "nbformat": 4,
 "nbformat_minor": 5
}
