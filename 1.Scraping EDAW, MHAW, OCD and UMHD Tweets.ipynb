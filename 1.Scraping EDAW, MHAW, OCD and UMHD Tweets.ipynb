{
 "cells": [
  {
   "cell_type": "markdown",
   "id": "7b5c0939",
   "metadata": {},
   "source": [
    "# Importing Necessary libraries, and installing packages "
   ]
  },
  {
   "cell_type": "code",
   "execution_count": 1,
   "id": "a1382d2c",
   "metadata": {},
   "outputs": [],
   "source": [
    "#libraries needed\n",
    "import datetime \n",
    "import pandas as pd\n",
    "\n",
    "#!pip install snscrape\n",
    "import snscrape.modules.twitter as snstwitter\n",
    "import numpy as np"
   ]
  },
  {
   "cell_type": "markdown",
   "id": "b93ab29e",
   "metadata": {},
   "source": [
    "# Some information about the different campaigns:\n",
    "EDAW == 'Eating Disorders Awareness Week'. Global campaign that occurs annually, at the end of February/beginning of March. Aim is to raise awareness of the pain and suffering caused by eating disorders. Main charity in the UK that drives EDAW each year is Beat Eating Disorders. Other major organisations globally include NEDA (National Eating Disorders Association) - US, and NEDIC (National Eating Disorders Information Centre) - Canada.\n",
    "\n",
    "MHAW == 'Mental Health Awareness Week'. UK's general Mental Health campaign that occurs annually, in mid-May. Not to be confused with other similar awarenes weeks such as Mental Illness Awareness Week (October, and global).\n",
    "\n",
    "UMHD == 'Univeristy Mental Health Day'. An annual campaign led by the UK's student Mental Health Charity, Student Minds. Occurs in March. The campaign's aim is to raise awareness of the mental health of students studying in the UK.\n",
    "\n",
    "OCD Awareness Week == global campaign that occurs annually, in the second week of October, to raise awareness of Obsessive Compulsive Disorder."
   ]
  },
  {
   "cell_type": "markdown",
   "id": "22dae666",
   "metadata": {},
   "source": [
    "# EDAW Tweets"
   ]
  },
  {
   "cell_type": "markdown",
   "id": "def9b2aa",
   "metadata": {},
   "source": [
    "#FOR EDAW\n",
    "#comment it out once you have gathered your data\n",
    "#Collecting tweets that contain 'eating disorder', as well as EDAW. Will separate out those that say ED, but not EDAW, later.\n",
    "#Will be helpful during time series analysis\n",
    "\n",
    "\n",
    "query = \"(EDAW OR #EDAW OR #EDAW2017 OR #EDAW2018 OR #EDAW2019 OR #EDAW2020 OR #EDAW2021 OR #EDAW2022 OR #EDAW2023 OR #edaw OR edaw OR #Edaw OR Edaw OR #EatingDisorderAwarenessWeek OR #eatingdisorderawarenessweek OR #EatingDisordersAwarenessWeek OR #eatingdisordersawarenessweek OR \\\"eating disorders awareness week\\\" OR \\\"eating disorder awareness week\\\" OR \\\"Eating Disorders Awareness Week\\\" OR \\\"eating disorders awareness week\\\" OR \\\"eating disorder\\\" OR \\\"eating disorders\\\") lang:en since:2017-01-01 until:2023-03-16\"\n",
    "\n",
    "tweets = []\n",
    "for i, tweet in enumerate(snstwitter.TwitterSearchScraper(query).get_items()):\n",
    "    if i>900000:\n",
    "        break\n",
    "    else:\n",
    "        tweets.append([tweet.date, tweet.id, tweet.url, tweet.user.username, tweet.sourceLabel, tweet.user.location,\n",
    "                      tweet.content, tweet.likeCount, tweet.retweetCount, tweet.user.followersCount,tweet.replyCount])\n",
    "EDAW=pd.DataFrame(tweets, columns = ['Date','ID', 'url', 'username', 'source','location','tweet','num_of_likes',\n",
    "                                  'num_of_rt','followers','replies'])\n"
   ]
  },
  {
   "cell_type": "markdown",
   "id": "ff55ffd9",
   "metadata": {},
   "source": [
    "EDAW.to_csv('EDAW.csv')"
   ]
  },
  {
   "cell_type": "markdown",
   "id": "2faf2b56",
   "metadata": {},
   "source": [
    "# Mental Health Awareness Week (done year by year due to large volume of tweets)"
   ]
  },
  {
   "cell_type": "markdown",
   "id": "2c4fc587",
   "metadata": {},
   "source": [
    "#FOR MH Awareness week (2017)\n",
    "#Will run the code for each year.\n",
    "\n",
    "query = \"(#MentalHealthAwarenessWeek OR \\\"mental health awareness week\\\") lang:en since:2017-01-01 until:2017-12-31\"\n",
    "\n",
    "tweets = []\n",
    "for i, tweet in enumerate(snstwitter.TwitterSearchScraper(query).get_items()):\n",
    "    if i>900000:\n",
    "        break\n",
    "    else:\n",
    "        tweets.append([tweet.date, tweet.id, tweet.url, tweet.user.username, tweet.sourceLabel, tweet.user.location,\n",
    "                      tweet.content, tweet.likeCount, tweet.retweetCount, tweet.user.followersCount,tweet.replyCount])\n",
    "MHAW17=pd.DataFrame(tweets, columns = ['Date','ID', 'url', 'username', 'source','location','tweet','num_of_likes',\n",
    "                                  'num_of_rt','followers','replies'])"
   ]
  },
  {
   "cell_type": "markdown",
   "id": "be1be0f4",
   "metadata": {},
   "source": [
    "MHAW17.to_csv('MHAW17.csv')"
   ]
  },
  {
   "cell_type": "markdown",
   "id": "d8e18a04",
   "metadata": {},
   "source": [
    "#FOR MH Awareness week (2018)\n",
    "\n",
    "query = \"(#MentalHealthAwarenessWeek OR \\\"mental health awareness week\\\") lang:en since:2018-01-01 until:2018-12-31\"\n",
    "\n",
    "tweets = []\n",
    "for i, tweet in enumerate(snstwitter.TwitterSearchScraper(query).get_items()):\n",
    "    if i>900000:\n",
    "        break\n",
    "    else:\n",
    "        tweets.append([tweet.date, tweet.id, tweet.url, tweet.user.username, tweet.sourceLabel, tweet.user.location,\n",
    "                      tweet.content, tweet.likeCount, tweet.retweetCount, tweet.user.followersCount,tweet.replyCount])\n",
    "MHAW18=pd.DataFrame(tweets, columns = ['Date','ID', 'url', 'username', 'source','location','tweet','num_of_likes',\n",
    "                                  'num_of_rt','followers','replies'])"
   ]
  },
  {
   "cell_type": "markdown",
   "id": "9618c56c",
   "metadata": {},
   "source": [
    "MHAW18.to_csv('MHAW18.csv')"
   ]
  },
  {
   "cell_type": "markdown",
   "id": "c49e4a07",
   "metadata": {},
   "source": [
    "#FOR MH Awareness week (2019)\n",
    "\n",
    "query = \"(#MentalHealthAwarenessWeek OR \\\"mental health awareness week\\\") lang:en since:2019-01-01 until:2019-12-31\"\n",
    "\n",
    "tweets = []\n",
    "for i, tweet in enumerate(snstwitter.TwitterSearchScraper(query).get_items()):\n",
    "    if i>900000:\n",
    "        break\n",
    "    else:\n",
    "        tweets.append([tweet.date, tweet.id, tweet.url, tweet.user.username, tweet.sourceLabel, tweet.user.location,\n",
    "                      tweet.content, tweet.likeCount, tweet.retweetCount, tweet.user.followersCount,tweet.replyCount])\n",
    "MHAW19=pd.DataFrame(tweets, columns = ['Date','ID', 'url', 'username', 'source','location','tweet','num_of_likes',\n",
    "                                  'num_of_rt','followers','replies'])"
   ]
  },
  {
   "cell_type": "markdown",
   "id": "5a40fd08",
   "metadata": {},
   "source": [
    "MHAW19.to_csv('MHAW19.csv')"
   ]
  },
  {
   "cell_type": "markdown",
   "id": "709ab14b",
   "metadata": {},
   "source": [
    "#FOR MH Awareness week (2020)\n",
    "\n",
    "query = \"(#MentalHealthAwarenessWeek OR \\\"mental health awareness week\\\") lang:en since:2020-01-01 until:2020-12-31\"\n",
    "\n",
    "tweets = []\n",
    "for i, tweet in enumerate(snstwitter.TwitterSearchScraper(query).get_items()):\n",
    "    if i>900000:\n",
    "        break\n",
    "    else:\n",
    "        tweets.append([tweet.date, tweet.id, tweet.url, tweet.user.username, tweet.sourceLabel, tweet.user.location,\n",
    "                      tweet.content, tweet.likeCount, tweet.retweetCount, tweet.user.followersCount,tweet.replyCount])\n",
    "MHAW20=pd.DataFrame(tweets, columns = ['Date','ID', 'url', 'username', 'source','location','tweet','num_of_likes',\n",
    "                                  'num_of_rt','followers','replies'])"
   ]
  },
  {
   "cell_type": "markdown",
   "id": "804a497a",
   "metadata": {},
   "source": [
    "MHAW20.to_csv('MHAW20.csv')"
   ]
  },
  {
   "cell_type": "markdown",
   "id": "26a1dbc8",
   "metadata": {},
   "source": [
    "#FOR MH Awareness week (2021)\n",
    "\n",
    "query = \"(#MentalHealthAwarenessWeek OR \\\"mental health awareness week\\\") lang:en since:2021-01-01 until:2021-12-31\"\n",
    "\n",
    "tweets = []\n",
    "for i, tweet in enumerate(snstwitter.TwitterSearchScraper(query).get_items()):\n",
    "    if i>900000:\n",
    "        break\n",
    "    else:\n",
    "        tweets.append([tweet.date, tweet.id, tweet.url, tweet.user.username, tweet.sourceLabel, tweet.user.location,\n",
    "                      tweet.content, tweet.likeCount, tweet.retweetCount, tweet.user.followersCount,tweet.replyCount])\n",
    "MHAW21=pd.DataFrame(tweets, columns = ['Date','ID', 'url', 'username', 'source','location','tweet','num_of_likes',\n",
    "                                  'num_of_rt','followers','replies'])"
   ]
  },
  {
   "cell_type": "markdown",
   "id": "59857a30",
   "metadata": {},
   "source": [
    "MHAW21.to_csv('MHAW21.csv')"
   ]
  },
  {
   "cell_type": "markdown",
   "id": "5db86b17",
   "metadata": {},
   "source": [
    "#FOR MH Awareness week (2022)\n",
    "#including first part of 2023\n",
    "\n",
    "query = \"(#MentalHealthAwarenessWeek OR \\\"mental health awareness week\\\") lang:en since:2022-01-01 until:2023-03-16\"\n",
    "\n",
    "tweets = []\n",
    "for i, tweet in enumerate(snstwitter.TwitterSearchScraper(query).get_items()):\n",
    "    if i>900000:\n",
    "        break\n",
    "    else:\n",
    "        tweets.append([tweet.date, tweet.id, tweet.url, tweet.user.username, tweet.sourceLabel, tweet.user.location,\n",
    "                      tweet.content, tweet.likeCount, tweet.retweetCount, tweet.user.followersCount,tweet.replyCount])\n",
    "MHAW22=pd.DataFrame(tweets, columns = ['Date','ID', 'url', 'username', 'source','location','tweet','num_of_likes',\n",
    "                                  'num_of_rt','followers','replies'])"
   ]
  },
  {
   "cell_type": "markdown",
   "id": "e0ba007d",
   "metadata": {},
   "source": [
    "MHAW22.to_csv('MHAW22.csv')"
   ]
  },
  {
   "cell_type": "markdown",
   "id": "6d35ae86",
   "metadata": {},
   "source": [
    "# University Mental Health Day"
   ]
  },
  {
   "cell_type": "markdown",
   "id": "2568b7ab",
   "metadata": {},
   "source": [
    "#FOR Uni Mental Health Day\n",
    "#anticipating this is a smaller campaign so can get all the tweets in one df\n",
    "query = \"(#UMHD OR #UniversityMentalHealthDay OR #UniMentalHealthDay OR \\\"Uni Mental Health Day\\\") lang:en since:2017-01-01 until:2023-03-16\"\n",
    "\n",
    "tweets = []\n",
    "for i, tweet in enumerate(snstwitter.TwitterSearchScraper(query).get_items()):\n",
    "    if i>900000:\n",
    "        break\n",
    "    else:\n",
    "        tweets.append([tweet.date, tweet.id, tweet.url, tweet.user.username, tweet.sourceLabel, tweet.user.location,\n",
    "                      tweet.content, tweet.likeCount, tweet.retweetCount,tweet.user.followersCount,tweet.replyCount])\n",
    "UMHD=pd.DataFrame(tweets, columns = ['Date','ID', 'url', 'username', 'source','location','tweet','num_of_likes',\n",
    "                                  'num_of_rt','followers','replies'])"
   ]
  },
  {
   "cell_type": "markdown",
   "id": "bf7a42f0",
   "metadata": {},
   "source": [
    "UMHD.to_csv('UMHD.csv')"
   ]
  },
  {
   "cell_type": "markdown",
   "id": "1fe31655",
   "metadata": {},
   "source": [
    "# OCD Awareness Week"
   ]
  },
  {
   "cell_type": "markdown",
   "id": "d1a0ec58",
   "metadata": {},
   "source": [
    "#FOR OCD\n",
    "query = \"(#OCDweek OR #OCDweek2017 OR #OCDweek2018 OR #OCDweek2019 OR #OCDweek2020 OR #OCDweek2021 or #OCDweek2022 OR #OCDWeek OR #OCDWeek2017 #OCDWeek2018 OR OCDWeek2019 OR #OCDWeek2020 OR #OCDWeek2021 OR #OCDWeek2022 #ocdweek OR \\\"OCD awareness week\\\") lang:en since:2017-01-01 until:2023-03-16\"\n",
    "\n",
    "tweets = []\n",
    "for i, tweet in enumerate(snstwitter.TwitterSearchScraper(query).get_items()):\n",
    "    if i>900000:\n",
    "        break\n",
    "    else:\n",
    "        tweets.append([tweet.date, tweet.id, tweet.url, tweet.user.username, tweet.sourceLabel, tweet.user.location,\n",
    "                      tweet.content, tweet.likeCount, tweet.retweetCount,tweet.user.followersCount,tweet.replyCount])\n",
    "OCD=pd.DataFrame(tweets, columns = ['Date','ID', 'url', 'username', 'source','location','tweet','num_of_likes',\n",
    "                                  'num_of_rt','followers','replies'])"
   ]
  },
  {
   "cell_type": "markdown",
   "id": "72e97568",
   "metadata": {},
   "source": [
    "OCD.to_csv('OCD.csv')"
   ]
  }
 ],
 "metadata": {
  "kernelspec": {
   "display_name": "Python 3 (ipykernel)",
   "language": "python",
   "name": "python3"
  },
  "language_info": {
   "codemirror_mode": {
    "name": "ipython",
    "version": 3
   },
   "file_extension": ".py",
   "mimetype": "text/x-python",
   "name": "python",
   "nbconvert_exporter": "python",
   "pygments_lexer": "ipython3",
   "version": "3.7.13"
  }
 },
 "nbformat": 4,
 "nbformat_minor": 5
}
